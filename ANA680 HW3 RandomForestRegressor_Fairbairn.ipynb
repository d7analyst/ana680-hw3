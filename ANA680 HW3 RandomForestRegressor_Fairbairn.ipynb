{
 "cells": [
  {
   "cell_type": "markdown",
   "id": "e238773a",
   "metadata": {},
   "source": [
    "# ANA 680 \n",
    "# HW3_ Fairbairn\n",
    "# Random Forest Regressor\n",
    "\n",
    "## Wine quality prediction"
   ]
  },
  {
   "cell_type": "code",
   "execution_count": 1,
   "id": "90959d49",
   "metadata": {},
   "outputs": [],
   "source": [
    "import numpy as np\n",
    "import pandas as pd\n",
    "import seaborn as sb\n",
    "import matplotlib.pyplot as plt\n",
    "\n",
    "from sklearn.model_selection import train_test_split\n",
    "from sklearn.metrics import mean_squared_error\n",
    "from sklearn import metrics\n",
    "from sklearn.ensemble import RandomForestRegressor\n",
    "from sklearn.preprocessing import MinMaxScaler\n",
    "from sklearn import model_selection\n",
    "\n",
    "from pprint import pprint\n",
    "\n",
    "import pickle\n",
    "\n",
    "iRandomState = 7\n",
    "accuracy_1 = 1.00\n",
    "accuracy_2 = 1.00\n",
    "accuracy_3 = 1.00\n",
    "accuracy_4 = 1.00"
   ]
  },
  {
   "cell_type": "markdown",
   "id": "c0d0a808",
   "metadata": {},
   "source": [
    "### Load file "
   ]
  },
  {
   "cell_type": "code",
   "execution_count": 2,
   "id": "541b6f76",
   "metadata": {
    "scrolled": true
   },
   "outputs": [],
   "source": [
    "file_path= \"C:\\David\\ANA 680 Machine Learning Deployment\\Data\\WineQuality\"\n",
    "file_path = file_path.replace(\"\\\\\",\"/\")\n",
    "file = file_path + \"/winequality-combined.csv\"\n",
    "df=pd.read_csv(file, na_values=['NULL', '?', 'NONE'])"
   ]
  },
  {
   "cell_type": "markdown",
   "id": "65a97f33",
   "metadata": {},
   "source": [
    "### print descriptive stats"
   ]
  },
  {
   "cell_type": "code",
   "execution_count": 3,
   "id": "15d00f85",
   "metadata": {
    "scrolled": false
   },
   "outputs": [
    {
     "data": {
      "text/html": [
       "<div>\n",
       "<style scoped>\n",
       "    .dataframe tbody tr th:only-of-type {\n",
       "        vertical-align: middle;\n",
       "    }\n",
       "\n",
       "    .dataframe tbody tr th {\n",
       "        vertical-align: top;\n",
       "    }\n",
       "\n",
       "    .dataframe thead th {\n",
       "        text-align: right;\n",
       "    }\n",
       "</style>\n",
       "<table border=\"1\" class=\"dataframe\">\n",
       "  <thead>\n",
       "    <tr style=\"text-align: right;\">\n",
       "      <th></th>\n",
       "      <th>fixed acidity</th>\n",
       "      <th>volatile acidity</th>\n",
       "      <th>citric acid</th>\n",
       "      <th>residual sugar</th>\n",
       "      <th>chlorides</th>\n",
       "      <th>free sulfur dioxide</th>\n",
       "      <th>total sulfur dioxide</th>\n",
       "      <th>density</th>\n",
       "      <th>pH</th>\n",
       "      <th>sulphates</th>\n",
       "      <th>alcohol</th>\n",
       "      <th>quality</th>\n",
       "    </tr>\n",
       "  </thead>\n",
       "  <tbody>\n",
       "    <tr>\n",
       "      <th>0</th>\n",
       "      <td>7.4</td>\n",
       "      <td>0.70</td>\n",
       "      <td>0.00</td>\n",
       "      <td>1.9</td>\n",
       "      <td>0.076</td>\n",
       "      <td>11.0</td>\n",
       "      <td>34.0</td>\n",
       "      <td>0.9978</td>\n",
       "      <td>3.51</td>\n",
       "      <td>0.56</td>\n",
       "      <td>9.4</td>\n",
       "      <td>5</td>\n",
       "    </tr>\n",
       "    <tr>\n",
       "      <th>1</th>\n",
       "      <td>7.8</td>\n",
       "      <td>0.88</td>\n",
       "      <td>0.00</td>\n",
       "      <td>2.6</td>\n",
       "      <td>0.098</td>\n",
       "      <td>25.0</td>\n",
       "      <td>67.0</td>\n",
       "      <td>0.9968</td>\n",
       "      <td>3.20</td>\n",
       "      <td>0.68</td>\n",
       "      <td>9.8</td>\n",
       "      <td>5</td>\n",
       "    </tr>\n",
       "    <tr>\n",
       "      <th>2</th>\n",
       "      <td>7.8</td>\n",
       "      <td>0.76</td>\n",
       "      <td>0.04</td>\n",
       "      <td>2.3</td>\n",
       "      <td>0.092</td>\n",
       "      <td>15.0</td>\n",
       "      <td>54.0</td>\n",
       "      <td>0.9970</td>\n",
       "      <td>3.26</td>\n",
       "      <td>0.65</td>\n",
       "      <td>9.8</td>\n",
       "      <td>5</td>\n",
       "    </tr>\n",
       "  </tbody>\n",
       "</table>\n",
       "</div>"
      ],
      "text/plain": [
       "   fixed acidity  volatile acidity  citric acid  residual sugar  chlorides  \\\n",
       "0            7.4              0.70         0.00             1.9      0.076   \n",
       "1            7.8              0.88         0.00             2.6      0.098   \n",
       "2            7.8              0.76         0.04             2.3      0.092   \n",
       "\n",
       "   free sulfur dioxide  total sulfur dioxide  density    pH  sulphates  \\\n",
       "0                 11.0                  34.0   0.9978  3.51       0.56   \n",
       "1                 25.0                  67.0   0.9968  3.20       0.68   \n",
       "2                 15.0                  54.0   0.9970  3.26       0.65   \n",
       "\n",
       "   alcohol  quality  \n",
       "0      9.4        5  \n",
       "1      9.8        5  \n",
       "2      9.8        5  "
      ]
     },
     "execution_count": 3,
     "metadata": {},
     "output_type": "execute_result"
    }
   ],
   "source": [
    "df.head(3)"
   ]
  },
  {
   "cell_type": "code",
   "execution_count": 4,
   "id": "f0082986",
   "metadata": {
    "scrolled": true
   },
   "outputs": [
    {
     "data": {
      "text/html": [
       "<div>\n",
       "<style scoped>\n",
       "    .dataframe tbody tr th:only-of-type {\n",
       "        vertical-align: middle;\n",
       "    }\n",
       "\n",
       "    .dataframe tbody tr th {\n",
       "        vertical-align: top;\n",
       "    }\n",
       "\n",
       "    .dataframe thead th {\n",
       "        text-align: right;\n",
       "    }\n",
       "</style>\n",
       "<table border=\"1\" class=\"dataframe\">\n",
       "  <thead>\n",
       "    <tr style=\"text-align: right;\">\n",
       "      <th></th>\n",
       "      <th>count</th>\n",
       "      <th>mean</th>\n",
       "      <th>std</th>\n",
       "      <th>min</th>\n",
       "      <th>25%</th>\n",
       "      <th>50%</th>\n",
       "      <th>75%</th>\n",
       "      <th>max</th>\n",
       "    </tr>\n",
       "  </thead>\n",
       "  <tbody>\n",
       "    <tr>\n",
       "      <th>fixed acidity</th>\n",
       "      <td>6497.0</td>\n",
       "      <td>7.22</td>\n",
       "      <td>1.30</td>\n",
       "      <td>3.80</td>\n",
       "      <td>6.40</td>\n",
       "      <td>7.00</td>\n",
       "      <td>7.70</td>\n",
       "      <td>15.90</td>\n",
       "    </tr>\n",
       "    <tr>\n",
       "      <th>volatile acidity</th>\n",
       "      <td>6497.0</td>\n",
       "      <td>0.34</td>\n",
       "      <td>0.16</td>\n",
       "      <td>0.08</td>\n",
       "      <td>0.23</td>\n",
       "      <td>0.29</td>\n",
       "      <td>0.40</td>\n",
       "      <td>1.58</td>\n",
       "    </tr>\n",
       "    <tr>\n",
       "      <th>citric acid</th>\n",
       "      <td>6497.0</td>\n",
       "      <td>0.32</td>\n",
       "      <td>0.15</td>\n",
       "      <td>0.00</td>\n",
       "      <td>0.25</td>\n",
       "      <td>0.31</td>\n",
       "      <td>0.39</td>\n",
       "      <td>1.66</td>\n",
       "    </tr>\n",
       "    <tr>\n",
       "      <th>residual sugar</th>\n",
       "      <td>6497.0</td>\n",
       "      <td>5.44</td>\n",
       "      <td>4.76</td>\n",
       "      <td>0.60</td>\n",
       "      <td>1.80</td>\n",
       "      <td>3.00</td>\n",
       "      <td>8.10</td>\n",
       "      <td>65.80</td>\n",
       "    </tr>\n",
       "    <tr>\n",
       "      <th>chlorides</th>\n",
       "      <td>6497.0</td>\n",
       "      <td>0.06</td>\n",
       "      <td>0.04</td>\n",
       "      <td>0.01</td>\n",
       "      <td>0.04</td>\n",
       "      <td>0.05</td>\n",
       "      <td>0.06</td>\n",
       "      <td>0.61</td>\n",
       "    </tr>\n",
       "    <tr>\n",
       "      <th>free sulfur dioxide</th>\n",
       "      <td>6497.0</td>\n",
       "      <td>30.53</td>\n",
       "      <td>17.75</td>\n",
       "      <td>1.00</td>\n",
       "      <td>17.00</td>\n",
       "      <td>29.00</td>\n",
       "      <td>41.00</td>\n",
       "      <td>289.00</td>\n",
       "    </tr>\n",
       "    <tr>\n",
       "      <th>total sulfur dioxide</th>\n",
       "      <td>6497.0</td>\n",
       "      <td>115.74</td>\n",
       "      <td>56.52</td>\n",
       "      <td>6.00</td>\n",
       "      <td>77.00</td>\n",
       "      <td>118.00</td>\n",
       "      <td>156.00</td>\n",
       "      <td>440.00</td>\n",
       "    </tr>\n",
       "    <tr>\n",
       "      <th>density</th>\n",
       "      <td>6497.0</td>\n",
       "      <td>0.99</td>\n",
       "      <td>0.00</td>\n",
       "      <td>0.99</td>\n",
       "      <td>0.99</td>\n",
       "      <td>0.99</td>\n",
       "      <td>1.00</td>\n",
       "      <td>1.04</td>\n",
       "    </tr>\n",
       "    <tr>\n",
       "      <th>pH</th>\n",
       "      <td>6497.0</td>\n",
       "      <td>3.22</td>\n",
       "      <td>0.16</td>\n",
       "      <td>2.72</td>\n",
       "      <td>3.11</td>\n",
       "      <td>3.21</td>\n",
       "      <td>3.32</td>\n",
       "      <td>4.01</td>\n",
       "    </tr>\n",
       "    <tr>\n",
       "      <th>sulphates</th>\n",
       "      <td>6497.0</td>\n",
       "      <td>0.53</td>\n",
       "      <td>0.15</td>\n",
       "      <td>0.22</td>\n",
       "      <td>0.43</td>\n",
       "      <td>0.51</td>\n",
       "      <td>0.60</td>\n",
       "      <td>2.00</td>\n",
       "    </tr>\n",
       "    <tr>\n",
       "      <th>alcohol</th>\n",
       "      <td>6497.0</td>\n",
       "      <td>10.49</td>\n",
       "      <td>1.19</td>\n",
       "      <td>8.00</td>\n",
       "      <td>9.50</td>\n",
       "      <td>10.30</td>\n",
       "      <td>11.30</td>\n",
       "      <td>14.90</td>\n",
       "    </tr>\n",
       "    <tr>\n",
       "      <th>quality</th>\n",
       "      <td>6497.0</td>\n",
       "      <td>5.82</td>\n",
       "      <td>0.87</td>\n",
       "      <td>3.00</td>\n",
       "      <td>5.00</td>\n",
       "      <td>6.00</td>\n",
       "      <td>6.00</td>\n",
       "      <td>9.00</td>\n",
       "    </tr>\n",
       "  </tbody>\n",
       "</table>\n",
       "</div>"
      ],
      "text/plain": [
       "                       count    mean    std   min    25%     50%     75%  \\\n",
       "fixed acidity         6497.0    7.22   1.30  3.80   6.40    7.00    7.70   \n",
       "volatile acidity      6497.0    0.34   0.16  0.08   0.23    0.29    0.40   \n",
       "citric acid           6497.0    0.32   0.15  0.00   0.25    0.31    0.39   \n",
       "residual sugar        6497.0    5.44   4.76  0.60   1.80    3.00    8.10   \n",
       "chlorides             6497.0    0.06   0.04  0.01   0.04    0.05    0.06   \n",
       "free sulfur dioxide   6497.0   30.53  17.75  1.00  17.00   29.00   41.00   \n",
       "total sulfur dioxide  6497.0  115.74  56.52  6.00  77.00  118.00  156.00   \n",
       "density               6497.0    0.99   0.00  0.99   0.99    0.99    1.00   \n",
       "pH                    6497.0    3.22   0.16  2.72   3.11    3.21    3.32   \n",
       "sulphates             6497.0    0.53   0.15  0.22   0.43    0.51    0.60   \n",
       "alcohol               6497.0   10.49   1.19  8.00   9.50   10.30   11.30   \n",
       "quality               6497.0    5.82   0.87  3.00   5.00    6.00    6.00   \n",
       "\n",
       "                         max  \n",
       "fixed acidity          15.90  \n",
       "volatile acidity        1.58  \n",
       "citric acid             1.66  \n",
       "residual sugar         65.80  \n",
       "chlorides               0.61  \n",
       "free sulfur dioxide   289.00  \n",
       "total sulfur dioxide  440.00  \n",
       "density                 1.04  \n",
       "pH                      4.01  \n",
       "sulphates               2.00  \n",
       "alcohol                14.90  \n",
       "quality                 9.00  "
      ]
     },
     "execution_count": 4,
     "metadata": {},
     "output_type": "execute_result"
    }
   ],
   "source": [
    "df.select_dtypes(exclude=['object']).describe().round(decimals=2).transpose()"
   ]
  },
  {
   "cell_type": "code",
   "execution_count": 5,
   "id": "37bcf00a",
   "metadata": {
    "scrolled": true
   },
   "outputs": [
    {
     "name": "stdout",
     "output_type": "stream",
     "text": [
      "<class 'pandas.core.frame.DataFrame'>\n",
      "RangeIndex: 6497 entries, 0 to 6496\n",
      "Data columns (total 12 columns):\n",
      " #   Column                Non-Null Count  Dtype  \n",
      "---  ------                --------------  -----  \n",
      " 0   fixed acidity         6497 non-null   float64\n",
      " 1   volatile acidity      6497 non-null   float64\n",
      " 2   citric acid           6497 non-null   float64\n",
      " 3   residual sugar        6497 non-null   float64\n",
      " 4   chlorides             6497 non-null   float64\n",
      " 5   free sulfur dioxide   6497 non-null   float64\n",
      " 6   total sulfur dioxide  6497 non-null   float64\n",
      " 7   density               6497 non-null   float64\n",
      " 8   pH                    6497 non-null   float64\n",
      " 9   sulphates             6497 non-null   float64\n",
      " 10  alcohol               6497 non-null   float64\n",
      " 11  quality               6497 non-null   int64  \n",
      "dtypes: float64(11), int64(1)\n",
      "memory usage: 609.2 KB\n"
     ]
    }
   ],
   "source": [
    "df.info()"
   ]
  },
  {
   "cell_type": "code",
   "execution_count": 6,
   "id": "9715cbd1",
   "metadata": {},
   "outputs": [
    {
     "name": "stdout",
     "output_type": "stream",
     "text": [
      "fixed acidity           0\n",
      "volatile acidity        0\n",
      "citric acid             0\n",
      "residual sugar          0\n",
      "chlorides               0\n",
      "free sulfur dioxide     0\n",
      "total sulfur dioxide    0\n",
      "density                 0\n",
      "pH                      0\n",
      "sulphates               0\n",
      "alcohol                 0\n",
      "quality                 0\n"
     ]
    }
   ],
   "source": [
    "print(df.isnull().sum().sort_values(ascending=False).to_string())"
   ]
  },
  {
   "cell_type": "markdown",
   "id": "68be8f80",
   "metadata": {},
   "source": [
    "### Histograms of factors"
   ]
  },
  {
   "cell_type": "code",
   "execution_count": 7,
   "id": "985d6d66",
   "metadata": {
    "scrolled": false
   },
   "outputs": [
    {
     "data": {
      "image/png": "[encoded data removed]",
      "text/plain": [
       "<Figure size 720x720 with 12 Axes>"
      ]
     },
     "metadata": {
      "needs_background": "light"
     },
     "output_type": "display_data"
    }
   ],
   "source": [
    "df.hist(bins=25,figsize=(10,10))\n",
    "plt.show()"
   ]
  },
  {
   "cell_type": "markdown",
   "id": "d98f742f",
   "metadata": {},
   "source": [
    "### Distribution of quality (Target)"
   ]
  },
  {
   "cell_type": "code",
   "execution_count": 8,
   "id": "9bc87b3f",
   "metadata": {
    "scrolled": false
   },
   "outputs": [
    {
     "data": {
      "image/png": "[encoded data removed]",
      "text/plain": [
       "<Figure size 720x360 with 1 Axes>"
      ]
     },
     "metadata": {
      "needs_background": "light"
     },
     "output_type": "display_data"
    }
   ],
   "source": [
    "op_count = df['quality'].value_counts()\n",
    "plt.figure(figsize=(10,5))\n",
    "sb.barplot(x=op_count.index,y= op_count.values)\n",
    "plt.title('Quality')\n",
    "plt.ylabel('Occurances by Quality', fontsize=12)\n",
    "plt.xlabel('Quality', fontsize=12)\n",
    "plt.show()"
   ]
  },
  {
   "cell_type": "markdown",
   "id": "0b0104b3",
   "metadata": {},
   "source": [
    "### Heatmap of factor correlation"
   ]
  },
  {
   "cell_type": "code",
   "execution_count": 9,
   "id": "0e0eb6a1",
   "metadata": {
    "scrolled": false
   },
   "outputs": [
    {
     "data": {
      "text/plain": [
       "<AxesSubplot:>"
      ]
     },
     "execution_count": 9,
     "metadata": {},
     "output_type": "execute_result"
    },
    {
     "data": {
      "image/png": "[encoded data removed]",
      "text/plain": [
       "<Figure size 1368x720 with 2 Axes>"
      ]
     },
     "metadata": {},
     "output_type": "display_data"
    }
   ],
   "source": [
    "# ploting heatmap\n",
    "plt.figure(figsize=[19,10],facecolor='white')\n",
    "sb.heatmap(df.corr(),annot=True)"
   ]
  },
  {
   "cell_type": "markdown",
   "id": "e143b3b0",
   "metadata": {},
   "source": [
    "### find correlations above 0.7"
   ]
  },
  {
   "cell_type": "code",
   "execution_count": 10,
   "id": "a941c36e",
   "metadata": {},
   "outputs": [
    {
     "name": "stdout",
     "output_type": "stream",
     "text": [
      "total sulfur dioxide\n"
     ]
    }
   ],
   "source": [
    "for a in range(len(df.corr().columns)):\n",
    "    for b in range(a):\n",
    "        if abs(df.corr().iloc[a,b]) >0.7:\n",
    "            name = df.corr().columns[a]\n",
    "            print(name)"
   ]
  },
  {
   "cell_type": "code",
   "execution_count": 11,
   "id": "5220c010",
   "metadata": {},
   "outputs": [],
   "source": [
    "new_df=df.drop('total sulfur dioxide',axis=1)"
   ]
  },
  {
   "cell_type": "markdown",
   "id": "2f5e190a",
   "metadata": {},
   "source": [
    "## Create x and y dataframes"
   ]
  },
  {
   "cell_type": "code",
   "execution_count": 12,
   "id": "1c19f433",
   "metadata": {},
   "outputs": [],
   "source": [
    "x = new_df.drop(columns=['quality'])"
   ]
  },
  {
   "cell_type": "code",
   "execution_count": 13,
   "id": "9d9f4353",
   "metadata": {},
   "outputs": [],
   "source": [
    "# use only the target values for Y\n",
    "y=new_df[['quality']].values"
   ]
  },
  {
   "cell_type": "markdown",
   "id": "d459477a",
   "metadata": {},
   "source": [
    "## Split into training and testing datasets"
   ]
  },
  {
   "cell_type": "code",
   "execution_count": 14,
   "id": "fbcf1623",
   "metadata": {},
   "outputs": [],
   "source": [
    "from sklearn.model_selection import train_test_split\n",
    "X_train,X_test,y_train_unraveled, y_test = train_test_split(x,y,test_size=0.2,random_state=iRandomState)\n",
    "y_train = y_train_unraveled.ravel()"
   ]
  },
  {
   "cell_type": "markdown",
   "id": "9c195a91",
   "metadata": {},
   "source": [
    "## Normalize the dataset"
   ]
  },
  {
   "cell_type": "code",
   "execution_count": 15,
   "id": "ccbb1016",
   "metadata": {},
   "outputs": [
    {
     "data": {
      "text/plain": [
       "'\\n#importing module\\nfrom sklearn.preprocessing import MinMaxScaler\\n# creating normalization object \\nnorm = MinMaxScaler()\\n# fit data\\nnorm_fit = norm.fit(x_train)\\nX_train = norm_fit.transform(X_train)\\nX_test = norm_fit.transform(X_test)\\n'"
      ]
     },
     "execution_count": 15,
     "metadata": {},
     "output_type": "execute_result"
    }
   ],
   "source": [
    "\"\"\"\n",
    "#importing module\n",
    "from sklearn.preprocessing import MinMaxScaler\n",
    "# creating normalization object \n",
    "norm = MinMaxScaler()\n",
    "# fit data\n",
    "norm_fit = norm.fit(x_train)\n",
    "X_train = norm_fit.transform(X_train)\n",
    "X_test = norm_fit.transform(X_test)\n",
    "\"\"\""
   ]
  },
  {
   "cell_type": "markdown",
   "id": "77553246",
   "metadata": {},
   "source": [
    "## RMSE function"
   ]
  },
  {
   "cell_type": "code",
   "execution_count": 16,
   "id": "bd4e44bb",
   "metadata": {},
   "outputs": [],
   "source": [
    "def get_rmse(y_test, predictions):\n",
    "    return mean_squared_error(y_test, predictions) ** 0.5"
   ]
  },
  {
   "cell_type": "markdown",
   "id": "4bde32b0",
   "metadata": {},
   "source": [
    "## Determine best model hyperparameters"
   ]
  },
  {
   "cell_type": "code",
   "execution_count": 17,
   "id": "63976332",
   "metadata": {},
   "outputs": [],
   "source": [
    "best_rmse = 1.00\n",
    "best_n_estimators = 450\n",
    "best_max_depth = 20\n",
    "best_min_samples_split = 2\n",
    "best_max_leaf_nodes = 1000\n",
    "best_min_samples_leaf = 1\n",
    "best_max_samples = 0.9810000000000001\n",
    "i = 0"
   ]
  },
  {
   "cell_type": "markdown",
   "id": "1d00c789",
   "metadata": {},
   "source": [
    "### n_estimators"
   ]
  },
  {
   "cell_type": "code",
   "execution_count": 18,
   "id": "90c3329f",
   "metadata": {},
   "outputs": [
    {
     "name": "stdout",
     "output_type": "stream",
     "text": [
      "rmse: 0.60717 best rmse:0.6071694732368956  estimator: 50\n",
      "RMSE of model with n_estimators=50: 0.60717\n",
      "rmse: 0.60200 best rmse:0.602000766674697  estimator: 100\n",
      "RMSE of model with n_estimators=100: 0.60200\n",
      "rmse: 0.60084 best rmse:0.6008417172856502  estimator: 150\n",
      "RMSE of model with n_estimators=150: 0.60084\n",
      "rmse: 0.59856 best rmse:0.5985566132211465  estimator: 200\n",
      "RMSE of model with n_estimators=200: 0.59856\n",
      "rmse: 0.59729 best rmse:0.5972863866624684  estimator: 250\n",
      "RMSE of model with n_estimators=250: 0.59729\n",
      "RMSE of model with n_estimators=300: 0.59693\n",
      "RMSE of model with n_estimators=350: 0.59679\n",
      "RMSE of model with n_estimators=400: 0.59649\n",
      "rmse: 0.59595 best rmse:0.5959535282111135  estimator: 450\n",
      "RMSE of model with n_estimators=450: 0.59595\n",
      "RMSE of model with n_estimators=500: 0.59603\n"
     ]
    },
    {
     "data": {
      "image/png": "[encoded data removed]",
      "text/plain": [
       "<Figure size 432x288 with 1 Axes>"
      ]
     },
     "metadata": {
      "needs_background": "light"
     },
     "output_type": "display_data"
    }
   ],
   "source": [
    "# Creating the 10 models\n",
    "n_estimators = [50 + i*50 for i in range(10)]\n",
    "models_n_estimators = [RandomForestRegressor(n_estimators = n_estimators[i], random_state = iRandomState) for i in range(10)]\n",
    "\n",
    "n_estimators_rmses = []\n",
    "i = 0\n",
    "# Fitting the models and making predictions    \n",
    "for model in models_n_estimators:                   \n",
    "    model.fit(X_train, y_train)\n",
    "    predictions = model.predict(X_test)\n",
    "    rmse = get_rmse(y_test, predictions)\n",
    "    if rmse < best_rmse - 0.001:\n",
    "        best_rmse = rmse\n",
    "        best_n_estimators = model.n_estimators\n",
    "        print (f'rmse: {rmse:.5f} best rmse:{best_rmse}  estimator: {best_n_estimators}')\n",
    "    n_estimators_rmses += [rmse]\n",
    "    print(f\"RMSE of model with n_estimators={model.n_estimators}: {rmse:.5f}\")\n",
    "\n",
    "# Plotting the RMSEs\n",
    "plt.plot(n_estimators, n_estimators_rmses)\n",
    "plt.title(\"15. RMSE vs n_estimators\")\n",
    "plt.xlabel(\"n_estimators\")\n",
    "plt.ylabel(\"rmse\")\n",
    "plt.show()"
   ]
  },
  {
   "cell_type": "markdown",
   "id": "0772910e",
   "metadata": {},
   "source": [
    "### max_depth"
   ]
  },
  {
   "cell_type": "code",
   "execution_count": 19,
   "id": "29667cde",
   "metadata": {},
   "outputs": [
    {
     "name": "stdout",
     "output_type": "stream",
     "text": [
      "rmse: 0.64155 best rmse:0.6415459868284769  estimator: 10\n",
      "RMSE of model with max_depth=10: 0.64155\n",
      "rmse: 0.60272 best rmse:0.6027222429446517  estimator: 20\n",
      "RMSE of model with max_depth=20: 0.60272\n",
      "RMSE of model with max_depth=30: 0.60182\n",
      "RMSE of model with max_depth=40: 0.60200\n",
      "RMSE of model with max_depth=50: 0.60200\n",
      "RMSE of model with max_depth=60: 0.60200\n",
      "RMSE of model with max_depth=70: 0.60200\n",
      "RMSE of model with max_depth=80: 0.60200\n",
      "RMSE of model with max_depth=90: 0.60200\n",
      "RMSE of model with max_depth=100: 0.60200\n"
     ]
    },
    {
     "data": {
      "image/png": "[encoded data removed]",
      "text/plain": [
       "<Figure size 432x288 with 1 Axes>"
      ]
     },
     "metadata": {
      "needs_background": "light"
     },
     "output_type": "display_data"
    }
   ],
   "source": [
    "# Creating the 10 models\n",
    "max_depths = [10 + i*10 for i in range(10)]\n",
    "models_max_depths = [RandomForestRegressor(max_depth = max_depths[i], random_state = iRandomState) for i in range(10)]\n",
    "\n",
    "max_depths_rmses = []\n",
    "best_rmse = 1.00\n",
    "# Fitting the models and making predictions\n",
    "for model in models_max_depths:                   \n",
    "    model.fit(X_train, y_train)\n",
    "    predictions = model.predict(X_test)\n",
    "    rmse = get_rmse(y_test, predictions)\n",
    "    if rmse < best_rmse - 0.02:\n",
    "        best_rmse = rmse\n",
    "        best_max_depth = (model.max_depth - (i*10 ))\n",
    "        print (f'rmse: {rmse:.5f} best rmse:{best_rmse}  estimator: {best_max_depth}')\n",
    "    max_depths_rmses += [rmse]\n",
    "    print(f\"RMSE of model with max_depth={model.max_depth}: {rmse:.5f}\")\n",
    "\n",
    "# Plotting the RMSEs\n",
    "plt.plot(max_depths, max_depths_rmses)\n",
    "plt.title(\"16. RMSE vs max_depth\")\n",
    "plt.xlabel(\"max_depth\")\n",
    "plt.ylabel(\"rmse\")\n",
    "plt.show()"
   ]
  },
  {
   "cell_type": "markdown",
   "id": "2d7e579f",
   "metadata": {},
   "source": [
    "### min_samples_split"
   ]
  },
  {
   "cell_type": "code",
   "execution_count": 20,
   "id": "482d616a",
   "metadata": {
    "scrolled": true
   },
   "outputs": [
    {
     "name": "stdout",
     "output_type": "stream",
     "text": [
      "rmse: 0.60200 best rmse:0.602000766674697  estimator: 2\n",
      "RMSE of model with min_samples_split=2: 0.60200\n",
      "RMSE of model with min_samples_split=52: 0.65624\n",
      "RMSE of model with min_samples_split=102: 0.67770\n",
      "RMSE of model with min_samples_split=152: 0.69012\n",
      "RMSE of model with min_samples_split=202: 0.69624\n",
      "RMSE of model with min_samples_split=252: 0.70180\n",
      "RMSE of model with min_samples_split=302: 0.70700\n",
      "RMSE of model with min_samples_split=352: 0.71208\n",
      "RMSE of model with min_samples_split=402: 0.71714\n",
      "RMSE of model with min_samples_split=452: 0.72027\n",
      "RMSE of model with min_samples_split=500: 0.72262\n",
      "RMSE of model with min_samples_split=1000: 0.74185\n",
      "RMSE of model with min_samples_split=1500: 0.76083\n",
      "RMSE of model with min_samples_split=2000: 0.76372\n",
      "RMSE of model with min_samples_split=2500: 0.78687\n",
      "RMSE of model with min_samples_split=3000: 0.78738\n",
      "RMSE of model with min_samples_split=3500: 0.86599\n",
      "RMSE of model with min_samples_split=4000: 0.86599\n",
      "RMSE of model with min_samples_split=4500: 0.86599\n",
      "RMSE of model with min_samples_split=5000: 0.86599\n"
     ]
    },
    {
     "data": {
      "image/png": "[encoded data removed]",
      "text/plain": [
       "<Figure size 432x288 with 1 Axes>"
      ]
     },
     "metadata": {
      "needs_background": "light"
     },
     "output_type": "display_data"
    }
   ],
   "source": [
    "# Creating the 20 models\n",
    "\n",
    "min_samples_splits = [2 + i*50 for i in range(10)] + [500 + i*500 for i in range(10)]\n",
    "models_min_samples_splits = [RandomForestRegressor(min_samples_split = min_samples_splits[i], random_state = iRandomState) for i in range(20)]\n",
    "\n",
    "min_samples_splits_rmses = []\n",
    "best_rmse = 1.00\n",
    "# Fitting the models and making predictions\n",
    "for model in models_min_samples_splits:                   \n",
    "    model.fit(X_train, y_train)\n",
    "    predictions = model.predict(X_test)\n",
    "    rmse = get_rmse(y_test, predictions)\n",
    "    if rmse < best_rmse - 0.025:\n",
    "        best_rmse = rmse\n",
    "        best_min_samples_split = (model.min_samples_split -(i*50))\n",
    "        print (f'rmse: {rmse:.5f} best rmse:{best_rmse}  estimator: {best_min_samples_split}')\n",
    "    min_samples_splits_rmses += [rmse]\n",
    "    print(f\"RMSE of model with min_samples_split={model.min_samples_split}: {rmse:.5f}\")\n",
    "\n",
    "# Plotting the RMSEs\n",
    "plt.plot(min_samples_splits, min_samples_splits_rmses)\n",
    "plt.title(\"17. RMSE vs min_samples_split\")\n",
    "plt.xlabel(\"min_samples_split\")\n",
    "plt.ylabel(\"rmse\")\n",
    "plt.show()"
   ]
  },
  {
   "cell_type": "markdown",
   "id": "4fa40794",
   "metadata": {},
   "source": [
    "### max_leaf_nodes"
   ]
  },
  {
   "cell_type": "code",
   "execution_count": 21,
   "id": "c5009635",
   "metadata": {
    "scrolled": true
   },
   "outputs": [
    {
     "name": "stdout",
     "output_type": "stream",
     "text": [
      "rmse: 0.64532 best rmse:0.6453233248105892  estimator: 200\n",
      "RMSE of model with max_leaf_nodes=200: 0.64532\n",
      "rmse: 0.62388 best rmse:0.6238801786489682  estimator: 400\n",
      "RMSE of model with max_leaf_nodes=400: 0.62388\n",
      "rmse: 0.61219 best rmse:0.6121867293677727  estimator: 600\n",
      "RMSE of model with max_leaf_nodes=600: 0.61219\n",
      "RMSE of model with max_leaf_nodes=800: 0.60518\n",
      "rmse: 0.59963 best rmse:0.5996345948174149  estimator: 1000\n",
      "RMSE of model with max_leaf_nodes=1000: 0.59963\n",
      "RMSE of model with max_leaf_nodes=1200: 0.59903\n",
      "RMSE of model with max_leaf_nodes=1400: 0.59903\n",
      "RMSE of model with max_leaf_nodes=1600: 0.59903\n",
      "RMSE of model with max_leaf_nodes=1800: 0.59903\n",
      "RMSE of model with max_leaf_nodes=2000: 0.59903\n"
     ]
    },
    {
     "data": {
      "image/png": "[encoded data removed]",
      "text/plain": [
       "<Figure size 432x288 with 1 Axes>"
      ]
     },
     "metadata": {
      "needs_background": "light"
     },
     "output_type": "display_data"
    }
   ],
   "source": [
    "# Creating the 10 models\n",
    "\n",
    "max_leaf_nodes = [200 + i*200 for i in range(10)]\n",
    "models_max_leaf_nodes = [RandomForestRegressor(max_leaf_nodes = max_leaf_nodes[i], random_state = iRandomState) for i in range(10)]\n",
    "\n",
    "max_leaf_nodes_rmses = []\n",
    "best_rmse = 1.00\n",
    "# Fitting the models and making predictions\n",
    "for model in models_max_leaf_nodes:                   \n",
    "    model.fit(X_train, y_train)\n",
    "    predictions = model.predict(X_test)\n",
    "    rmse = get_rmse(y_test, predictions)\n",
    "    if rmse < best_rmse - 0.01:\n",
    "        best_rmse = rmse\n",
    "        best_max_leaf_nodes = (model.max_leaf_nodes - (i*200))\n",
    "        print (f'rmse: {rmse:.5f} best rmse:{best_rmse}  estimator: {best_max_leaf_nodes}')\n",
    "    max_leaf_nodes_rmses += [rmse]\n",
    "    print(f\"RMSE of model with max_leaf_nodes={model.max_leaf_nodes}: {rmse:.5f}\")\n",
    "\n",
    "# Plotting the RMSEs\n",
    "plt.plot(max_leaf_nodes, max_leaf_nodes_rmses)\n",
    "plt.title(\"18. RMSE vs max_leaf_nodes\")\n",
    "plt.xlabel(\"max_leaf_nodes\")\n",
    "plt.ylabel(\"rmse\")\n",
    "plt.show()"
   ]
  },
  {
   "cell_type": "markdown",
   "id": "95a5faea",
   "metadata": {},
   "source": [
    "### min_samples_leaf"
   ]
  },
  {
   "cell_type": "code",
   "execution_count": 22,
   "id": "ee2126e4",
   "metadata": {},
   "outputs": [
    {
     "name": "stdout",
     "output_type": "stream",
     "text": [
      "rmse: 0.60200 best rmse:0.602000766674697  estimator: 1\n",
      "RMSE of model with min_samples_leaf=1: 0.60200\n",
      "RMSE of model with min_samples_leaf=26: 0.67573\n",
      "RMSE of model with min_samples_leaf=51: 0.69358\n",
      "RMSE of model with min_samples_leaf=76: 0.70318\n",
      "RMSE of model with min_samples_leaf=101: 0.70914\n",
      "RMSE of model with min_samples_leaf=126: 0.71291\n",
      "RMSE of model with min_samples_leaf=151: 0.71647\n",
      "RMSE of model with min_samples_leaf=176: 0.72102\n",
      "RMSE of model with min_samples_leaf=201: 0.72493\n",
      "RMSE of model with min_samples_leaf=226: 0.72786\n",
      "RMSE of model with min_samples_leaf=250: 0.72956\n",
      "RMSE of model with min_samples_leaf=500: 0.74421\n",
      "RMSE of model with min_samples_leaf=750: 0.76391\n",
      "RMSE of model with min_samples_leaf=1000: 0.76772\n",
      "RMSE of model with min_samples_leaf=1250: 0.78830\n",
      "RMSE of model with min_samples_leaf=1500: 0.79609\n",
      "RMSE of model with min_samples_leaf=1750: 0.86599\n",
      "RMSE of model with min_samples_leaf=2000: 0.86599\n",
      "RMSE of model with min_samples_leaf=2250: 0.86599\n",
      "RMSE of model with min_samples_leaf=2500: 0.86599\n"
     ]
    },
    {
     "data": {
      "image/png": "[encoded data removed]",
      "text/plain": [
       "<Figure size 432x288 with 1 Axes>"
      ]
     },
     "metadata": {
      "needs_background": "light"
     },
     "output_type": "display_data"
    }
   ],
   "source": [
    "# Creating the 20 models\n",
    "\n",
    "min_samples_leaves =  [1 + i*25 for i in range (10)] + [250 + i*250 for i in range(10)]\n",
    "models_min_samples_leaves = [RandomForestRegressor(min_samples_leaf = min_samples_leaves[i], random_state = iRandomState) for i in range(20)]\n",
    "\n",
    "min_samples_leaves_rmses = []\n",
    "best_rmse = 1.00\n",
    "# Fitting the models and making predictions\n",
    "for model in models_min_samples_leaves:                   \n",
    "    model.fit(X_train, y_train)\n",
    "    predictions = model.predict(X_test)\n",
    "    rmse = get_rmse(y_test, predictions)\n",
    "    if rmse < best_rmse - 0.05:\n",
    "        best_rmse = rmse\n",
    "        best_min_samples_leaf = (model.min_samples_leaf - (i*250))\n",
    "        print (f'rmse: {rmse:.5f} best rmse:{best_rmse}  estimator: {best_min_samples_leaf}')\n",
    "    min_samples_leaves_rmses += [rmse]\n",
    "    print(f\"RMSE of model with min_samples_leaf={model.min_samples_leaf}: {rmse:.5f}\")\n",
    "\n",
    "# Plotting the RMSEs\n",
    "plt.plot(min_samples_leaves, min_samples_leaves_rmses)\n",
    "plt.title(\"19. RMSE vs min_samples_leaf\")\n",
    "plt.xlabel(\"min_samples_leaf\")\n",
    "plt.ylabel(\"rmse\")\n",
    "plt.show()"
   ]
  },
  {
   "cell_type": "markdown",
   "id": "d980cf43",
   "metadata": {},
   "source": [
    "### Max_Samples"
   ]
  },
  {
   "cell_type": "code",
   "execution_count": 23,
   "id": "322c00a7",
   "metadata": {
    "scrolled": true
   },
   "outputs": [
    {
     "name": "stdout",
     "output_type": "stream",
     "text": [
      "rmse: 0.68531  best rmse:0.6853073426180066   estimator: 0.05\n",
      "RMSE of model with max_samples=0.05: 0.68531\n",
      "rmse: 0.67225  best rmse:0.6722458341547842   estimator: 0.099\n",
      "RMSE of model with max_samples=0.099: 0.67225\n",
      "rmse: 0.65720  best rmse:0.6572038672108701   estimator: 0.14800000000000002\n",
      "RMSE of model with max_samples=0.14800000000000002: 0.65720\n",
      "rmse: 0.64876  best rmse:0.6487648027064733   estimator: 0.197\n",
      "RMSE of model with max_samples=0.197: 0.64876\n",
      "rmse: 0.64822  best rmse:0.6482173780690929   estimator: 0.246\n",
      "RMSE of model with max_samples=0.246: 0.64822\n",
      "rmse: 0.63314  best rmse:0.6331379725681381   estimator: 0.295\n",
      "RMSE of model with max_samples=0.295: 0.63314\n",
      "RMSE of model with max_samples=0.34400000000000003: 0.63626\n",
      "rmse: 0.62952  best rmse:0.6295163589247273   estimator: 0.393\n",
      "RMSE of model with max_samples=0.393: 0.62952\n",
      "rmse: 0.62470  best rmse:0.6247039298739844   estimator: 0.442\n",
      "RMSE of model with max_samples=0.442: 0.62470\n",
      "RMSE of model with max_samples=0.491: 0.62477\n",
      "rmse: 0.61877  best rmse:0.6187734766331016   estimator: 0.54\n",
      "RMSE of model with max_samples=0.54: 0.61877\n",
      "rmse: 0.61576  best rmse:0.6157556958105032   estimator: 0.5890000000000001\n",
      "RMSE of model with max_samples=0.5890000000000001: 0.61576\n",
      "RMSE of model with max_samples=0.6380000000000001: 0.61754\n",
      "rmse: 0.61207  best rmse:0.6120683722491241   estimator: 0.687\n",
      "RMSE of model with max_samples=0.687: 0.61207\n",
      "rmse: 0.60861  best rmse:0.6086055309539113   estimator: 0.7360000000000001\n",
      "RMSE of model with max_samples=0.7360000000000001: 0.60861\n",
      "rmse: 0.60672  best rmse:0.6067203132099159   estimator: 0.785\n",
      "RMSE of model with max_samples=0.785: 0.60672\n",
      "rmse: 0.60567  best rmse:0.6056725441764971   estimator: 0.8340000000000001\n",
      "RMSE of model with max_samples=0.8340000000000001: 0.60567\n",
      "rmse: 0.60044  best rmse:0.6004354189317052   estimator: 0.8830000000000001\n",
      "RMSE of model with max_samples=0.8830000000000001: 0.60044\n",
      "RMSE of model with max_samples=0.932: 0.60125\n",
      "RMSE of model with max_samples=0.9810000000000001: 0.60096\n"
     ]
    },
    {
     "data": {
      "image/png": "[encoded data removed]",
      "text/plain": [
       "<Figure size 432x288 with 1 Axes>"
      ]
     },
     "metadata": {
      "needs_background": "light"
     },
     "output_type": "display_data"
    }
   ],
   "source": [
    "# Creating the 20 models\n",
    "max_samples =  [0.05 + i*0.049 for i in range(20)]\n",
    "models_max_samples = [RandomForestRegressor(max_samples = max_samples[i], random_state = iRandomState) for i in range(20)]\n",
    "\n",
    "max_samples_rmses = []\n",
    "best_rmse = 1.00\n",
    "# Fitting the models and making predictions\n",
    "for model in models_max_samples:                   \n",
    "    model.fit(X_train, y_train)\n",
    "    predictions = model.predict(X_test)\n",
    "    rmse = get_rmse(y_test, predictions)\n",
    "    if rmse < best_rmse - 0.0005:\n",
    "        best_rmse = rmse\n",
    "        best_max_samples  = model.max_samples\n",
    "        print (f'rmse: {rmse:.5f}  best rmse:{best_rmse}   estimator: {best_max_samples}')\n",
    "    max_samples_rmses += [rmse]\n",
    "    print(f\"RMSE of model with max_samples={model.max_samples}: {rmse:.5f}\")\n",
    "\n",
    "# Plotting the RMSEs\n",
    "plt.plot(max_samples, max_samples_rmses)\n",
    "plt.title(\"20. RMSE vs max_samples\")\n",
    "plt.xlabel(\"max_samples\")\n",
    "plt.ylabel(\"rmse\")\n",
    "plt.show()"
   ]
  },
  {
   "cell_type": "markdown",
   "id": "13b24972",
   "metadata": {},
   "source": [
    "### Build a model from best results above"
   ]
  },
  {
   "cell_type": "code",
   "execution_count": 24,
   "id": "c6540ac3",
   "metadata": {
    "scrolled": true
   },
   "outputs": [
    {
     "name": "stdout",
     "output_type": "stream",
     "text": [
      "Best n_estimators: 450\n",
      "Best max_depth: 20\n",
      "Best min_samples_split: 2\n",
      "Best max_leaf_nodes: 1000\n",
      "Best min_samples_leaf: 1\n",
      "Best max_samples: 0.8830000000000001\n"
     ]
    }
   ],
   "source": [
    "### Print the autogenerated hyperparameters\n",
    "print(f\"Best n_estimators: {best_n_estimators}\\nBest max_depth: {best_max_depth}\\nBest min_samples_split: {best_min_samples_split}\\nBest max_leaf_nodes: {best_max_leaf_nodes}\\nBest min_samples_leaf: {best_min_samples_leaf}\\nBest max_samples: {best_max_samples}\")"
   ]
  },
  {
   "cell_type": "markdown",
   "id": "c18cddd4",
   "metadata": {},
   "source": [
    "### instantiate best_model_1"
   ]
  },
  {
   "cell_type": "code",
   "execution_count": 25,
   "id": "730b3a5b",
   "metadata": {},
   "outputs": [],
   "source": [
    "best_model_1 = RandomForestRegressor(max_depth= best_max_depth,\n",
    " max_leaf_nodes= best_max_leaf_nodes,\n",
    " max_samples= best_max_samples,\n",
    " min_samples_leaf= best_min_samples_leaf,\n",
    " min_samples_split= best_min_samples_split,\n",
    " n_estimators= best_n_estimators,\n",
    " random_state= iRandomState)"
   ]
  },
  {
   "cell_type": "markdown",
   "id": "ddbed77e",
   "metadata": {},
   "source": [
    "### train the model"
   ]
  },
  {
   "cell_type": "code",
   "execution_count": 26,
   "id": "27caaecd",
   "metadata": {},
   "outputs": [
    {
     "name": "stdout",
     "output_type": "stream",
     "text": [
      "RMSE of the optimized model according to our manual check: 0.59982\n"
     ]
    }
   ],
   "source": [
    "best_model_1.fit(X_train, y_train)\n",
    "best_predictions = best_model_1.predict(X_test)\n",
    "best_rmse_model1 = get_rmse(y_test, best_predictions)\n",
    "print(f\"RMSE of the optimized model according to our manual check: {best_rmse_model1:.5f}\")"
   ]
  },
  {
   "cell_type": "markdown",
   "id": "812b9663",
   "metadata": {},
   "source": [
    "### Accuracy check"
   ]
  },
  {
   "cell_type": "code",
   "execution_count": 27,
   "id": "16eb0f5f",
   "metadata": {},
   "outputs": [
    {
     "name": "stdout",
     "output_type": "stream",
     "text": [
      "Accuracy for Random Forest using the train set 91.31588114185027\n",
      "Accuracy for Random Forest using the test set 100.0\n"
     ]
    }
   ],
   "source": [
    "accuracy_1 = best_model_1.score(X_train, y_train)\n",
    "accuracy_test_1 = best_model_1.score(X_test, best_predictions)\n",
    "\n",
    "print('Accuracy for Random Forest using the train set',100*accuracy_1)\n",
    "print('Accuracy for Random Forest using the test set',100*accuracy_test_1)"
   ]
  },
  {
   "cell_type": "markdown",
   "id": "f6e4b657",
   "metadata": {},
   "source": [
    "### Model 2 instnatiation"
   ]
  },
  {
   "cell_type": "code",
   "execution_count": 28,
   "id": "6dd37343",
   "metadata": {},
   "outputs": [],
   "source": [
    "best_model_2 = RandomForestRegressor(max_depth= 40,\n",
    " max_leaf_nodes= 1000,\n",
    " max_samples= 0.9810000000000001,\n",
    " min_samples_leaf= 1,\n",
    " min_samples_split= 2,\n",
    " n_estimators= 450,\n",
    " random_state= iRandomState)"
   ]
  },
  {
   "cell_type": "markdown",
   "id": "993d56f8",
   "metadata": {},
   "source": [
    "### Model training and testing"
   ]
  },
  {
   "cell_type": "code",
   "execution_count": 29,
   "id": "dcbffb84",
   "metadata": {},
   "outputs": [
    {
     "name": "stdout",
     "output_type": "stream",
     "text": [
      "RMSE of the optimized model according to our manual check: 0.59689\n"
     ]
    }
   ],
   "source": [
    "best_model_2.fit(X_train, y_train)\n",
    "best_predictions = best_model_2.predict(X_test)\n",
    "best_rmse_model2 = get_rmse(y_test, best_predictions)\n",
    "print(f\"RMSE of the optimized model according to our manual check: {best_rmse_model2:.5f}\")"
   ]
  },
  {
   "cell_type": "markdown",
   "id": "cfc4bc42",
   "metadata": {},
   "source": [
    "### Accuracy Check"
   ]
  },
  {
   "cell_type": "code",
   "execution_count": 30,
   "id": "b1fb88a4",
   "metadata": {},
   "outputs": [
    {
     "name": "stdout",
     "output_type": "stream",
     "text": [
      "Accuracy for Random Forest using the train set 93.00380185189394\n",
      "Accuracy for Random Forest using the test set 100.0\n"
     ]
    }
   ],
   "source": [
    "accuracy_2 = best_model_2.score(X_train, y_train)\n",
    "accuracy_test_2 = best_model_2.score(X_test, best_predictions)\n",
    "\n",
    "print('Accuracy for Random Forest using the train set',100*accuracy_2)\n",
    "print('Accuracy for Random Forest using the test set',100*accuracy_test_2)"
   ]
  },
  {
   "cell_type": "markdown",
   "id": "46c836b6",
   "metadata": {},
   "source": [
    "### Developing & Training an optimized model using GridSearchCV"
   ]
  },
  {
   "cell_type": "code",
   "execution_count": 31,
   "id": "53c355af",
   "metadata": {},
   "outputs": [
    {
     "name": "stdout",
     "output_type": "stream",
     "text": [
      "RMSE of the optimized model according to GridSearchCV algorithm: 0.59965\n"
     ]
    }
   ],
   "source": [
    "# Defining the optional values for each parameter\n",
    "param_grid = {'n_estimators': [100, 300, 500],\n",
    "              'max_depth': [20, 30, 40],\n",
    "              'min_samples_split': [2, 500, 1000],\n",
    "              'max_leaf_nodes': [333, 666, 1000],\n",
    "              'min_samples_leaf': [1, 50, 100],\n",
    "              'max_samples': [0.33,0.66,0.9810000000000001]}\n",
    "\n",
    "# Using the GridSearchCV algorithm\n",
    "best_model_3 = model_selection.GridSearchCV(estimator = RandomForestRegressor(),\n",
    "                                          param_grid = param_grid,\n",
    "                                          scoring = 'neg_root_mean_squared_error',\n",
    "                                          verbose=0,\n",
    "                                          n_jobs=-1,\n",
    "                                          cv=5)\n",
    "\n",
    "best_model_3.fit(X_train, y_train)"
   ]
  },
  {
   "cell_type": "markdown",
   "id": "fed6600b",
   "metadata": {},
   "source": [
    "### Extract thet best parameters the algorithm has found"
   ]
  },
  {
   "cell_type": "code",
   "execution_count": 39,
   "id": "00b3beeb",
   "metadata": {},
   "outputs": [
    {
     "name": "stdout",
     "output_type": "stream",
     "text": [
      "{'cv': 5,\n",
      " 'error_score': nan,\n",
      " 'estimator': RandomForestRegressor(),\n",
      " 'estimator__bootstrap': True,\n",
      " 'estimator__ccp_alpha': 0.0,\n",
      " 'estimator__criterion': 'mse',\n",
      " 'estimator__max_depth': None,\n",
      " 'estimator__max_features': 'auto',\n",
      " 'estimator__max_leaf_nodes': None,\n",
      " 'estimator__max_samples': None,\n",
      " 'estimator__min_impurity_decrease': 0.0,\n",
      " 'estimator__min_impurity_split': None,\n",
      " 'estimator__min_samples_leaf': 1,\n",
      " 'estimator__min_samples_split': 2,\n",
      " 'estimator__min_weight_fraction_leaf': 0.0,\n",
      " 'estimator__n_estimators': 100,\n",
      " 'estimator__n_jobs': None,\n",
      " 'estimator__oob_score': False,\n",
      " 'estimator__random_state': None,\n",
      " 'estimator__verbose': 0,\n",
      " 'estimator__warm_start': False,\n",
      " 'n_jobs': -1,\n",
      " 'param_grid': {'max_depth': [20, 30, 40],\n",
      "                'max_leaf_nodes': [333, 666, 1000],\n",
      "                'max_samples': [0.33, 0.66, 0.9810000000000001],\n",
      "                'min_samples_leaf': [1, 50, 100],\n",
      "                'min_samples_split': [2, 500, 1000],\n",
      "                'n_estimators': [100, 300, 500]},\n",
      " 'pre_dispatch': '2*n_jobs',\n",
      " 'refit': True,\n",
      " 'return_train_score': False,\n",
      " 'scoring': 'neg_root_mean_squared_error',\n",
      " 'verbose': 0}\n"
     ]
    }
   ],
   "source": [
    "params = best_model_3.get_params()\n",
    "pprint(params)"
   ]
  },
  {
   "cell_type": "markdown",
   "id": "c9736b65",
   "metadata": {},
   "source": [
    "### Create optimized models"
   ]
  },
  {
   "cell_type": "code",
   "execution_count": 40,
   "id": "2b9c0827",
   "metadata": {
    "scrolled": true
   },
   "outputs": [
    {
     "name": "stdout",
     "output_type": "stream",
     "text": [
      "RMSE of the optimized model according to GridSearchCV algorithm: 0.60108\n"
     ]
    }
   ],
   "source": [
    "best_model_3 = RandomForestRegressor(bootstrap= True,\n",
    " ccp_alpha= 0.0,\n",
    " criterion='mse',\n",
    " max_depth=None,\n",
    " max_features='auto',\n",
    " max_leaf_nodes= None,\n",
    " max_samples= None,\n",
    " min_impurity_decrease= 0.0,\n",
    " min_impurity_split= None,\n",
    " min_samples_leaf= 1,\n",
    " min_samples_split= 2,\n",
    " min_weight_fraction_leaf= 0.0,\n",
    " n_estimators= 100,\n",
    " n_jobs= None,\n",
    " oob_score= False,\n",
    " random_state= 42,\n",
    " verbose =0,\n",
    " warm_start =False)\n",
    "\n",
    "best_model_3.fit(X_train, y_train)\n",
    "best_predictions_grid = best_model_3.predict(X_test)\n",
    "best_rmse_model3 = get_rmse(y_test, best_predictions_grid)\n",
    "print(f\"RMSE of the optimized model according to GridSearchCV algorithm: {best_rmse_model3:.5f}\")"
   ]
  },
  {
   "cell_type": "markdown",
   "id": "06c32cca",
   "metadata": {},
   "source": [
    "### Accuracy check"
   ]
  },
  {
   "cell_type": "code",
   "execution_count": 41,
   "id": "11a1cc20",
   "metadata": {},
   "outputs": [
    {
     "name": "stdout",
     "output_type": "stream",
     "text": [
      "Model_3 Accuracy for Random Forest using the train set 93.22544118523112\n",
      "Model_3 Accuracy for Random Forest using the test set 98.33093972605914\n"
     ]
    }
   ],
   "source": [
    "accuracy_3 = best_model_3.score(X_train, y_train)\n",
    "accuracy_test_3 = best_model_3.score(X_test, best_predictions)\n",
    "\n",
    "print('Model_3 Accuracy for Random Forest using the train set',100*accuracy_3)\n",
    "print('Model_3 Accuracy for Random Forest using the test set',100*accuracy_test_3)"
   ]
  },
  {
   "cell_type": "markdown",
   "id": "cc460add",
   "metadata": {},
   "source": [
    "### Evaluation of results"
   ]
  },
  {
   "cell_type": "code",
   "execution_count": 42,
   "id": "b8e45c9a",
   "metadata": {},
   "outputs": [
    {
     "name": "stdout",
     "output_type": "stream",
     "text": [
      "Model_1 Accuracy according to RMSE for Random Forest auto set: 91.31588\n",
      "Model_2 Accuracy according to RMSE for Random Forest Manually set: 93.00380\n",
      "Model_3 Accuracy according to RMSE for Random Forest using GridSearchCV: 93.22544\n"
     ]
    }
   ],
   "source": [
    "accuracy_model_1 = accuracy_1 * 100\n",
    "accuracy_model_2 = accuracy_2 * 100\n",
    "accuracy_model_3 = accuracy_3 * 100\n",
    "\n",
    "print(f'Model_1 Accuracy according to RMSE for Random Forest auto set: {accuracy_model_1:.5f}')\n",
    "print(f'Model_2 Accuracy according to RMSE for Random Forest Manually set: {accuracy_model_2:.5f}')\n",
    "print(f'Model_3 Accuracy according to RMSE for Random Forest using GridSearchCV: {accuracy_model_3:.5f}')\n"
   ]
  },
  {
   "cell_type": "code",
   "execution_count": 48,
   "id": "2b3164f0",
   "metadata": {},
   "outputs": [],
   "source": [
    "y_pred1 = best_model_1.predict(X_test)\n",
    "y_pred2 = best_model_2.predict(X_test)\n",
    "y_pred3 = best_model_3.predict(X_test)\n",
    "model = best_model_3"
   ]
  },
  {
   "cell_type": "code",
   "execution_count": 49,
   "id": "85a95e59",
   "metadata": {},
   "outputs": [],
   "source": [
    "# Open a file and use dump()\n",
    "with open('file_HW3_mdl1.pkl','wb') as file:\n",
    "    #create a new file \n",
    "    pickle.dump(best_model_1,file)\n",
    "    \n",
    "# Open a file and use dump()\n",
    "with open('file_HW3_mdl2.pkl','wb') as file:\n",
    "    #create a new file \n",
    "    pickle.dump(best_model_2,file)\n",
    "    \n",
    "# Open a file and use dump()\n",
    "with open('file_HW3_mdl3.pkl','wb') as file:\n",
    "    #create a new file \n",
    "    pickle.dump(best_model_3,file)\n",
    "    \n"
   ]
  },
  {
   "cell_type": "code",
   "execution_count": 47,
   "id": "eac7531d",
   "metadata": {},
   "outputs": [
    {
     "data": {
      "text/plain": [
       "array([5.35])"
      ]
     },
     "execution_count": 47,
     "metadata": {},
     "output_type": "execute_result"
    }
   ],
   "source": [
    "model.predict(np.array([[7.9, 0.32, 0.51, 1.8, 0.341, 17, 0.9969, 3.04 , 1.08, 9.2]]))"
   ]
  },
  {
   "cell_type": "code",
   "execution_count": null,
   "id": "52de707c",
   "metadata": {},
   "outputs": [],
   "source": []
  }
 ],
 "metadata": {
  "kernelspec": {
   "display_name": "Python 3 (ipykernel)",
   "language": "python",
   "name": "python3"
  },
  "language_info": {
   "codemirror_mode": {
    "name": "ipython",
    "version": 3
   },
   "file_extension": ".py",
   "mimetype": "text/x-python",
   "name": "python",
   "nbconvert_exporter": "python",
   "pygments_lexer": "ipython3",
   "version": "3.9.7"
  }
 },
 "nbformat": 4,
 "nbformat_minor": 5
}
